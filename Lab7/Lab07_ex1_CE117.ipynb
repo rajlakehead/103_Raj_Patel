{
  "nbformat": 4,
  "nbformat_minor": 0,
  "metadata": {
    "kernelspec": {
      "display_name": "Python 3",
      "language": "python",
      "name": "python3"
    },
    "language_info": {
      "codemirror_mode": {
        "name": "ipython",
        "version": 3
      },
      "file_extension": ".py",
      "mimetype": "text/x-python",
      "name": "python",
      "nbconvert_exporter": "python",
      "pygments_lexer": "ipython3",
      "version": "3.8.3"
    },
    "colab": {
      "name": "Lab07_ex1_CE117.ipynb",
      "provenance": []
    }
  },
  "cells": [
    {
      "cell_type": "code",
      "metadata": {
        "id": "55it2bOM0Fs6"
      },
      "source": [
        "#Replace Manual version of Logistic Regression with TF based version."
      ],
      "execution_count": null,
      "outputs": []
    },
    {
      "cell_type": "code",
      "metadata": {
        "colab": {
          "base_uri": "https://localhost:8080/"
        },
        "id": "ll8hzyni0Fs9",
        "outputId": "054f0925-b6a3-42ce-d80c-bc389627f6dc"
      },
      "source": [
        "import nltk\n",
        "from nltk.corpus import twitter_samples \n",
        "import pandas as pd\n",
        "import tensorflow.compat.v1 as tf\n",
        "tf.disable_v2_behavior()"
      ],
      "execution_count": null,
      "outputs": [
        {
          "output_type": "stream",
          "name": "stdout",
          "text": [
            "WARNING:tensorflow:From /usr/local/lib/python3.7/dist-packages/tensorflow/python/compat/v2_compat.py:101: disable_resource_variables (from tensorflow.python.ops.variable_scope) is deprecated and will be removed in a future version.\n",
            "Instructions for updating:\n",
            "non-resource variables are not supported in the long term\n"
          ]
        }
      ]
    },
    {
      "cell_type": "code",
      "metadata": {
        "colab": {
          "base_uri": "https://localhost:8080/"
        },
        "id": "WuBj-W8B0Fs-",
        "outputId": "8e51b447-cd7d-4e6a-8f91-20a4fd3b4a34"
      },
      "source": [
        "nltk.download('twitter_samples')\n",
        "nltk.download('stopwords')"
      ],
      "execution_count": null,
      "outputs": [
        {
          "output_type": "stream",
          "name": "stdout",
          "text": [
            "[nltk_data] Downloading package twitter_samples to /root/nltk_data...\n",
            "[nltk_data]   Unzipping corpora/twitter_samples.zip.\n",
            "[nltk_data] Downloading package stopwords to /root/nltk_data...\n",
            "[nltk_data]   Unzipping corpora/stopwords.zip.\n"
          ]
        },
        {
          "output_type": "execute_result",
          "data": {
            "text/plain": [
              "True"
            ]
          },
          "metadata": {},
          "execution_count": 4
        }
      ]
    },
    {
      "cell_type": "code",
      "metadata": {
        "id": "LDmfRqoK0Fs_"
      },
      "source": [
        "import re\n",
        "import string\n",
        "import numpy as np\n",
        "from nltk.corpus import stopwords\n",
        "from nltk.stem import PorterStemmer\n",
        "from nltk.tokenize import TweetTokenizer"
      ],
      "execution_count": null,
      "outputs": []
    },
    {
      "cell_type": "code",
      "metadata": {
        "id": "lbs1ZXoI0FtA"
      },
      "source": [
        "all_positive_tweets = twitter_samples.strings('positive_tweets.json')\n",
        "all_negative_tweets = twitter_samples.strings('negative_tweets.json')"
      ],
      "execution_count": null,
      "outputs": []
    },
    {
      "cell_type": "code",
      "metadata": {
        "id": "gANz4yzU0FtB"
      },
      "source": [
        "test_pos = all_positive_tweets[4000:]\n",
        "train_pos = all_positive_tweets[:4000]\n",
        "test_neg = all_negative_tweets[4000:]\n",
        "train_neg = all_negative_tweets[:4000]\n",
        "train_x = train_pos+train_neg\n",
        "test_x = test_pos+test_neg"
      ],
      "execution_count": null,
      "outputs": []
    },
    {
      "cell_type": "code",
      "metadata": {
        "id": "W0kvlAne0FtC"
      },
      "source": [
        "def process_tweet(tweet):\n",
        "    stemmer = PorterStemmer()\n",
        "    stopwords_english = stopwords.words('english')\n",
        "\n",
        "    tweet = re.sub(r'\\$\\w*', '', tweet)\n",
        "    tweet = re.sub(r'^RT[\\s]+', '', tweet)\n",
        "    tweet = re.sub(r'https?:\\/\\/.*[\\r\\n]*', '', tweet)\n",
        "    tweet = re.sub(r'#', '', tweet)\n",
        "   \n",
        "    tokenizer = TweetTokenizer(preserve_case=False, strip_handles=True,\n",
        "                               reduce_len=True)\n",
        "    tweet_tokens = tokenizer.tokenize(tweet)\n",
        "\n",
        "    tweets_clean = []\n",
        "    for word in tweet_tokens:\n",
        "            if(word not in stopwords_english and word not in string.punctuation):\n",
        "              steam_word=stemmer.stem(word)\n",
        "              tweets_clean.append(steam_word)\n",
        "    return tweets_clean"
      ],
      "execution_count": null,
      "outputs": []
    },
    {
      "cell_type": "code",
      "metadata": {
        "id": "AZXxcvAp0FtD"
      },
      "source": [
        "def build_freqs(tweets, ys):\n",
        "  yslist = np.squeeze(ys).tolist()\n",
        "  freqs = {}\n",
        "  for y, tweet in zip(yslist, tweets):\n",
        "    for word in process_tweet(tweet):\n",
        "      pair = (word, y)\n",
        "      if pair in freqs:\n",
        "        freqs[pair] += 1\n",
        "      else:\n",
        "        freqs[pair] = 1\n",
        "  return freqs"
      ],
      "execution_count": null,
      "outputs": []
    },
    {
      "cell_type": "code",
      "metadata": {
        "id": "CVE0eaRY0FtF"
      },
      "source": [
        "train_y = np.append(np.ones((len(train_pos), 1)), np.zeros((len(train_neg), 1)), axis=0)\n",
        "test_y = np.append(np.ones((len(test_pos), 1)), np.zeros((len(test_neg), 1)), axis=0)"
      ],
      "execution_count": null,
      "outputs": []
    },
    {
      "cell_type": "code",
      "metadata": {
        "colab": {
          "base_uri": "https://localhost:8080/"
        },
        "id": "lZHKBk6F0FtG",
        "outputId": "aee3b1fd-125b-4f52-ed54-bb6a787cc6a0"
      },
      "source": [
        "freqs = build_freqs(train_x,train_y)\n",
        "\n",
        "print(\"\\ntype(freqs) = \" + str(type(freqs)))\n",
        "print(\"len(freqs) = \" + str(len(freqs.keys())))"
      ],
      "execution_count": null,
      "outputs": [
        {
          "output_type": "stream",
          "name": "stdout",
          "text": [
            "\n",
            "type(freqs) = <class 'dict'>\n",
            "len(freqs) = 11346\n"
          ]
        }
      ]
    },
    {
      "cell_type": "code",
      "metadata": {
        "colab": {
          "base_uri": "https://localhost:8080/"
        },
        "id": "Mwq1Tghw0FtH",
        "outputId": "0e272cf9-102d-41ce-b9ca-7f65b45e79da"
      },
      "source": [
        "print('Example of positive tweet: \\n', train_x[0])\n",
        "print('\\nExample of the processed version of the tweet: \\n', process_tweet(train_x[0]))"
      ],
      "execution_count": null,
      "outputs": [
        {
          "output_type": "stream",
          "name": "stdout",
          "text": [
            "Example of positive tweet: \n",
            " #FollowFriday @France_Inte @PKuchly57 @Milipol_Paris for being top engaged members in my community this week :)\n",
            "\n",
            "Example of the processed version of the tweet: \n",
            " ['followfriday', 'top', 'engag', 'member', 'commun', 'week', ':)']\n"
          ]
        }
      ]
    },
    {
      "cell_type": "code",
      "metadata": {
        "id": "VeeCuO8M0FtH"
      },
      "source": [
        "def extract_features(tweet, freqs):\n",
        " \n",
        "    word_l = process_tweet(tweet)\n",
        "    x = np.zeros((1, 2)) \n",
        "    \n",
        "    for word in word_l:\n",
        "        if((word,1) in freqs):\n",
        "          x[0,0]+=freqs[word,1]\n",
        "    \n",
        "        if((word,0) in freqs):\n",
        "          x[0,1]+=freqs[word,0]\n",
        "    \n",
        "    assert(x.shape == (1, 2))\n",
        "    return x[0]"
      ],
      "execution_count": null,
      "outputs": []
    },
    {
      "cell_type": "code",
      "metadata": {
        "colab": {
          "base_uri": "https://localhost:8080/"
        },
        "id": "0O-C4HDE0FtI",
        "outputId": "9b56eec4-676b-4bf4-f8b9-dbba017ab701"
      },
      "source": [
        "# test 1 : 0n training data \n",
        "tmp1 = extract_features(train_x[0], freqs)\n",
        "print(tmp1)"
      ],
      "execution_count": null,
      "outputs": [
        {
          "output_type": "stream",
          "name": "stdout",
          "text": [
            "[3020.   61.]\n"
          ]
        }
      ]
    },
    {
      "cell_type": "code",
      "metadata": {
        "colab": {
          "base_uri": "https://localhost:8080/"
        },
        "id": "VTgo81NQ0FtI",
        "outputId": "bee4fb6b-ed79-43c8-9281-2e8d33784a6c"
      },
      "source": [
        "# test 2: check for when the words are not in the freqs dictionary\n",
        "tmp2 = extract_features('happy', freqs)\n",
        "print(tmp2)"
      ],
      "execution_count": null,
      "outputs": [
        {
          "output_type": "stream",
          "name": "stdout",
          "text": [
            "[161.  18.]\n"
          ]
        }
      ]
    },
    {
      "cell_type": "code",
      "metadata": {
        "id": "uZ5Eeq8f0FtJ"
      },
      "source": [
        "def predict_tweet(tweet):\n",
        "  with tf.Session() as sess:\n",
        "      saver.restore(sess,save_path='TSession')\n",
        "      data_i=[]\n",
        "      for t in tweet:\n",
        "        data_i.append(extract_features(t,freqs))\n",
        "      data_i=np.asarray(data_i)\n",
        "      return sess.run(tf.nn.sigmoid(tf.add(tf.matmul(a=data_i,b=W,transpose_b=True),b)))\n",
        "      print(\"Fail\")\n",
        "  return "
      ],
      "execution_count": null,
      "outputs": []
    },
    {
      "cell_type": "code",
      "metadata": {
        "id": "UK409oDV0FtJ"
      },
      "source": [
        "b=tf.Variable(np.random.randn(1),name=\"Bias\")\n",
        "W=tf.Variable(np.random.randn(1,2),name=\"Bias\")"
      ],
      "execution_count": null,
      "outputs": []
    },
    {
      "cell_type": "code",
      "metadata": {
        "id": "wEnNW11x0FtJ"
      },
      "source": [
        "data=[]\n",
        "for t in train_x:\n",
        "  data.append(extract_features(t,freqs))\n",
        "data=np.asarray(data)"
      ],
      "execution_count": null,
      "outputs": []
    },
    {
      "cell_type": "code",
      "metadata": {
        "colab": {
          "base_uri": "https://localhost:8080/"
        },
        "id": "RPEE6m820FtJ",
        "outputId": "07bfd662-efd5-4d50-b82c-e4f664d7a96e"
      },
      "source": [
        "Y_hat = tf.nn.sigmoid(tf.add(tf.matmul(np.asarray(data), W,transpose_b=True), b)) \n",
        "print(Y_hat)\n",
        "ta=np.asarray(train_y)\n",
        "cost = tf.nn.sigmoid_cross_entropy_with_logits( \n",
        "                    logits = Y_hat, labels = ta) \n",
        "print(\"\\n\",cost)"
      ],
      "execution_count": null,
      "outputs": [
        {
          "output_type": "stream",
          "name": "stdout",
          "text": [
            "Tensor(\"Sigmoid:0\", shape=(8000, 1), dtype=float64)\n",
            "\n",
            " Tensor(\"logistic_loss:0\", shape=(8000, 1), dtype=float64)\n"
          ]
        }
      ]
    },
    {
      "cell_type": "code",
      "metadata": {
        "id": "wP0XyvcA0FtK"
      },
      "source": [
        "optimizer = tf.train.GradientDescentOptimizer(learning_rate = 1e-4,name=\"GradientDescent\").minimize(cost) \n",
        "init = tf.global_variables_initializer() "
      ],
      "execution_count": null,
      "outputs": []
    },
    {
      "cell_type": "code",
      "metadata": {
        "colab": {
          "base_uri": "https://localhost:8080/"
        },
        "id": "fo3_zyCw0FtK",
        "outputId": "d8433776-6584-4fc7-d19a-b42dee290f80"
      },
      "source": [
        "saver = tf.train.Saver()\n",
        "with tf.Session() as sess:\n",
        "  \n",
        "  sess.run(init)\n",
        "  print(\"Bias\",sess.run(b))\n",
        "  print(\"Weight\",sess.run(W))\n",
        "  for epoch in range(400):\n",
        "    sess.run(optimizer)\n",
        "    preds=sess.run(Y_hat)\n",
        "    acc=((preds==ta).sum())/len(train_y)\n",
        "    accu=[]\n",
        "    repoch=False\n",
        "    if repoch:\n",
        "      accu.append(acc)\n",
        "    if epoch % 1000 == 0:\n",
        "      print(\"Accuracy\",acc)\n",
        "    saved_path = saver.save(sess, 'TSession')"
      ],
      "execution_count": null,
      "outputs": [
        {
          "output_type": "stream",
          "name": "stdout",
          "text": [
            "Bias [0.71211155]\n",
            "Weight [[-0.41930592 -1.03721363]]\n",
            "Accuracy 0.46475\n"
          ]
        }
      ]
    },
    {
      "cell_type": "code",
      "metadata": {
        "colab": {
          "base_uri": "https://localhost:8080/"
        },
        "id": "ouSq9tqx0FtK",
        "outputId": "7bff2d11-6bd9-4133-b271-705c9e062306"
      },
      "source": [
        "preds=predict_tweet(test_x)\n",
        "print(preds,len(test_y))"
      ],
      "execution_count": null,
      "outputs": [
        {
          "output_type": "stream",
          "name": "stdout",
          "text": [
            "INFO:tensorflow:Restoring parameters from TSession\n",
            "[[0.00000000e+000]\n",
            " [0.00000000e+000]\n",
            " [0.00000000e+000]\n",
            " ...\n",
            " [0.00000000e+000]\n",
            " [0.00000000e+000]\n",
            " [2.55035706e-220]] 2000\n"
          ]
        }
      ]
    },
    {
      "cell_type": "code",
      "metadata": {
        "id": "A6kdy6qC0FtL"
      },
      "source": [
        "def calculate_accuracy(x,y):\n",
        "  if len(x)!=len(y):\n",
        "    print(\"dimensions are different\")\n",
        "    return\n",
        "  return ((x==y).sum())/len(y)"
      ],
      "execution_count": null,
      "outputs": []
    },
    {
      "cell_type": "code",
      "metadata": {
        "colab": {
          "base_uri": "https://localhost:8080/"
        },
        "id": "FdhKiWmr0FtL",
        "outputId": "a90c4a1f-3c36-4df7-b59d-7af5c4a02e4b"
      },
      "source": [
        "print(calculate_accuracy(preds,test_y))"
      ],
      "execution_count": null,
      "outputs": [
        {
          "output_type": "stream",
          "name": "stdout",
          "text": [
            "0.456\n"
          ]
        }
      ]
    }
  ]
}